{
 "cells": [
  {
   "cell_type": "markdown",
   "metadata": {},
   "source": [
    "## Итоговый проект по \"Python для Data Science\""
   ]
  },
  {
   "cell_type": "markdown",
   "metadata": {},
   "source": [
    "## Задание"
   ]
  },
  {
   "cell_type": "markdown",
   "metadata": {},
   "source": [
    "https://www.kaggle.com/c/realestatepriceprediction"
   ]
  },
  {
   "cell_type": "markdown",
   "metadata": {},
   "source": [
    "https://www.kaggle.com/t/9f9b2a84befc470b96c2afb5416d76e2"
   ]
  },
  {
   "cell_type": "markdown",
   "metadata": {},
   "source": [
    "#### Задача в этом соревновании - предсказать цены на квартиры в датасете test.csv. Вам будут даны два датасета: train.csv (содержит признаки и цены на квартиры) и test.csv (только признаки)."
   ]
  },
  {
   "cell_type": "code",
   "execution_count": null,
   "metadata": {},
   "outputs": [],
   "source": [
    "import pandas as pd\n",
    "import matplotlib.pyplot as plt\n",
    "import numpy as np\n",
    "import datetime\n",
    "import gc\n",
    "import warnings"
   ]
  },
  {
   "cell_type": "code",
   "execution_count": null,
   "metadata": {},
   "outputs": [],
   "source": [
    "from sklearn.ensemble import RandomForestRegressor\n",
    "from sklearn.metrics import r2_score\n",
    "from sklearn.model_selection import train_test_split, KFold, GridSearchCV, cross_val_score\n",
    "from lightgbm import LGBMRegressor"
   ]
  },
  {
   "cell_type": "code",
   "execution_count": null,
   "metadata": {},
   "outputs": [],
   "source": [
    "warnings.filterwarnings('ignore')\n",
    "%matplotlib inline\n",
    "%config InlineBackend.figure_format = 'svg'"
   ]
  },
  {
   "cell_type": "code",
   "execution_count": null,
   "metadata": {},
   "outputs": [],
   "source": [
    "DATASET_PATH = '/kaggle/input/realestatepriceprediction/train.csv'\n",
    "TEST_DATASET_PATH = '/kaggle/input/realestatepriceprediction/test.csv'\n",
    "\n",
    "df = pd.read_csv(DATASET_PATH)\n",
    "\n",
    "X = df.copy()\n",
    "y = df[['Price']]\n",
    "\n",
    "X_final = pd.read_csv(TEST_DATASET_PATH)\n",
    "\n",
    "preds_final = pd.DataFrame()\n",
    "preds_final['Id'] = X_final['Id'].copy()\n",
    "\n",
    "X.set_index('Id', inplace=True)\n",
    "X_final.set_index('Id', inplace=True)\n",
    "\n",
    "print('Всего строк в трейне:' ,  X.shape[0])\n",
    "print('Всего строк в тесте', X_final.shape[0])\n",
    "\n",
    "del df\n",
    "gc.collect()"
   ]
  },
  {
   "cell_type": "code",
   "execution_count": null,
   "metadata": {},
   "outputs": [],
   "source": [
    "class Data:\n",
    "    \n",
    "    def __init__(self):\n",
    "        \"\"\"Константы для обработки выбросов на основе анализа данных\"\"\"\n",
    "        self.Square_min = 15\n",
    "        self.Square_max = 300\n",
    "        \n",
    "        self.LifeSquare_min = 10\n",
    "        self.LifeSquare_max = 280\n",
    "        \n",
    "        self.Rooms_min = 1\n",
    "        self.Rooms_max = 5\n",
    "        \n",
    "        self.HouseFloor_min = 1\n",
    "        self.HouseFloor_max = 50\n",
    "        \n",
    "        self.KitchenSquare_min = 3\n",
    "        self.KitchenSquare_max = 30\n",
    "        \n",
    "        self.current_year = datetime.datetime.now().year\n",
    "        \n",
    "        self.medians = None\n",
    "        self.DistrictId_value_counts = None\n",
    "        self.SquareMeterPrice_by_DistrictId = None\n",
    "        self.Healthcare_1_by_DistrictId = None\n",
    "        \n",
    "        \n",
    "    def fit(self, df):\n",
    "        \n",
    "        # медианные значения\n",
    "        self.medians = df[['LifeSquare', 'HouseFloor']].median()\n",
    "        \n",
    "        # подсчет популярных районов\n",
    "        self.DistrictId_value_counts = dict(df['DistrictId'].value_counts())\n",
    "        \n",
    "        # подсчет средней цены за м2 по району\n",
    "        df_temp = df.loc[((df['Square'] > self.Square_min) & (df['Square'] < self.Square_max))]\n",
    "        df_temp[\"SquareMeterPrice\"] = df_temp[\"Price\"] / df_temp[\"Square\"]\n",
    "        self.SquareMeterPrice_by_DistrictId = df_temp.groupby('DistrictId', as_index=False)\\\n",
    "            .agg({'SquareMeterPrice': 'mean'})\\\n",
    "            .rename(columns={'SquareMeterPrice': 'AverageSquareMeterPrice'})\n",
    "        \n",
    "        # подсчет среднего значения признака Healthcare_1 по району\n",
    "        self.Healthcare_1_by_DistrictId = df.groupby('DistrictId', as_index=False)\\\n",
    "            .agg({'Healthcare_1': 'mean'})\\\n",
    "            .rename(columns={'Healthcare_1': 'AverageHealthcare_1'})\n",
    "        \n",
    "        del df_temp\n",
    "        \n",
    "    def transform(self, df):\n",
    "        \n",
    "        # Обработка пропусков\n",
    "        df[['LifeSquare', 'HouseFloor']] = df[['LifeSquare', 'HouseFloor']].fillna(self.medians)\n",
    "        \n",
    "        # Обработка выбросов\n",
    "\n",
    "        # площадь\n",
    "        df.loc[(df['Square'] > self.Square_max), 'Square'] = self.Square_max\n",
    "        df.loc[(df['Square'] < self.Square_min), 'Square'] = self.Square_min\n",
    "        \n",
    "        # жилая площадь\n",
    "        df.loc[(df['LifeSquare'] < self.LifeSquare_min), 'LifeSquare'] = self.LifeSquare_min\n",
    "        df.loc[(df['LifeSquare'] > self.LifeSquare_max), 'LifeSquare'] = self.LifeSquare_max\n",
    "        \n",
    "        # площадь кухни\n",
    "        df.loc[(df['KitchenSquare'] < self.KitchenSquare_min), 'KitchenSquare'] = self.KitchenSquare_min\n",
    "        df.loc[(df['KitchenSquare'] > self.KitchenSquare_max), 'KitchenSquare'] = self.KitchenSquare_max\n",
    "        \n",
    "        # год постройки дома\n",
    "        df.loc[(df['HouseYear'] > self.current_year), 'HouseYear'] = self.current_year\n",
    "        \n",
    "        # количество комнат\n",
    "        df.loc[(df['Rooms'] > self.Rooms_max), 'Rooms'] = self.Rooms_max\n",
    "        df.loc[(df['Rooms'] < self.Rooms_min), 'Rooms'] = self.Rooms_min\n",
    "        \n",
    "        # количество этажей\n",
    "        df.loc[(df['HouseFloor'] < self.HouseFloor_min), 'HouseFloor'] = self.HouseFloor_min\n",
    "        df.loc[(df['HouseFloor'] > self.HouseFloor_max), 'HouseFloor'] = self.HouseFloor_max\n",
    "        \n",
    "        # если этаж больше этажности дома, то присваиваем случайный этаж от self.HouseFloor_min до максимального этажа в доме\n",
    "        floor_outliers = df.loc[df['Floor'] > df['HouseFloor']].index\n",
    "        df.loc[floor_outliers, 'Floor'] = df.loc[floor_outliers, 'HouseFloor'].apply(lambda x: self.HouseFloor_min if (self.HouseFloor_min == x) else np.random.randint(self.HouseFloor_min, x))\n",
    "        \n",
    "        # Обработка категорий\n",
    "        df = pd.concat([df, pd.get_dummies(df['Ecology_2'], prefix='Ecology_2', dtype='int8')], axis=1)\n",
    "        df = pd.concat([df, pd.get_dummies(df['Ecology_3'], prefix='Ecology_3', dtype='int8')], axis=1)\n",
    "        df = pd.concat([df, pd.get_dummies(df['Shops_2'], prefix='Shops_2', dtype='int8')], axis=1)\n",
    "        \n",
    "        return df\n",
    "    \n",
    "    def features(self, df):\n",
    "        \n",
    "        # добавление признака популярности района\n",
    "        df['DistrictId_counts'] = df['DistrictId'].map(self.DistrictId_value_counts)\n",
    "        df['DistrictId_counts'].fillna(df['DistrictId_counts'].median(), inplace=True)\n",
    "        \n",
    "        # добавление признака средней стоимости м2 по району\n",
    "        df = df.merge(self.SquareMeterPrice_by_DistrictId, on=[\"DistrictId\"], how='left')\n",
    "        df['AverageSquareMeterPrice'].fillna(df['AverageSquareMeterPrice'].median(), inplace=True)\n",
    "        \n",
    "        # добавление признака среднего значения Healthcare_1 по району\n",
    "        df = df.merge(self.Healthcare_1_by_DistrictId, on=[\"DistrictId\"], how='left')\n",
    "        df['AverageHealthcare_1'].fillna(df['AverageHealthcare_1'].median(), inplace=True)\n",
    "        df['SQUARE_LIFE'] = (df['Square'] / df['LifeSquare'])\n",
    "        df['SQUARE_KIT'] = (df['Square'] / df['KitchenSquare'])\n",
    "        df['SQUARE_ROOM'] = (df['LifeSquare'] / df['Rooms'])\n",
    "        \n",
    "        return df"
   ]
  },
  {
   "cell_type": "code",
   "execution_count": null,
   "metadata": {},
   "outputs": [],
   "source": [
    "data_inst = Data()\n",
    "\n",
    "# тренировочные данные\n",
    "data_inst.fit(X)\n",
    "X = data_inst.transform(X)\n",
    "X = data_inst.features(X)\n",
    "\n",
    "# валидационные данные\n",
    "X_final = data_inst.transform(X_final)\n",
    "X_final = data_inst.features(X_final)"
   ]
  },
  {
   "cell_type": "code",
   "execution_count": null,
   "metadata": {},
   "outputs": [],
   "source": [
    "feature_names = ['AverageSquareMeterPrice', 'DistrictId_counts', 'Rooms', 'Square', 'LifeSquare', 'KitchenSquare', 'Floor',\n",
    "                    'HouseFloor', 'HouseYear', 'Helthcare_2', 'Ecology_1', 'Social_1', 'Social_2', 'Social_3',\n",
    "                    'Shops_1', 'Ecology_2_A', 'Ecology_2_B', 'Ecology_3_A', 'Ecology_3_B', 'Shops_2_A', 'Shops_2_B',\n",
    "                    'AverageHealthcare_1', 'SQUARE_LIFE', 'SQUARE_KIT', 'SQUARE_ROOM',]\n",
    "\n",
    "\n",
    "X1 = X[feature_names]\n",
    "X1_final = X_final[feature_names]"
   ]
  },
  {
   "cell_type": "code",
   "execution_count": null,
   "metadata": {},
   "outputs": [],
   "source": [
    "model = LGBMRegressor(max_depth=6,\n",
    "                             n_estimators=500,\n",
    "                             random_state=42)\n",
    "\n",
    "cv_score = cross_val_score(model, X1, y, \n",
    "                           scoring='r2', \n",
    "                           cv=KFold(n_splits=6, shuffle=True, random_state=42))\n",
    "\n",
    "model.fit(X1, y)\n",
    "# cv_score\n",
    "mean = cv_score.mean()\n",
    "std = cv_score.std()\n",
    "\n",
    "print('R2: {:.3f} +- {:.3f}'.format(mean, std))"
   ]
  },
  {
   "cell_type": "code",
   "execution_count": null,
   "metadata": {},
   "outputs": [],
   "source": [
    "def plot_feature_importances(importances, X1):\n",
    "    \n",
    "    indices = np.argsort(importances)[::-1]\n",
    "\n",
    "    plt.figure(figsize = (20, 6))\n",
    "    plt.title(\"Feature importances\", fontsize=16)\n",
    "    plt.bar(range(X1.shape[1]), importances[indices] / importances.sum(),\n",
    "           color=\"darkblue\", align=\"center\")\n",
    "    plt.xticks(range(X1.shape[1]), X1.columns[indices], rotation = 90, fontsize=14)\n",
    "    plt.xlim([-1, X1.shape[1]])\n",
    "\n",
    "    plt.tight_layout()\n",
    "    # plt.savefig('fe.jpg')\n",
    "    plt.show()\n",
    "    \n",
    "plot_feature_importances(importances = model.feature_importances_, X1=X1)"
   ]
  },
  {
   "cell_type": "code",
   "execution_count": null,
   "metadata": {},
   "outputs": [],
   "source": [
    "y_pred_final = model.predict(X1_final)\n",
    "\n",
    "preds_final['Price'] = y_pred_final\n",
    "preds_final.to_csv('predictions.csv', index=False)\n",
    "\n",
    "preds_final.head()"
   ]
  }
 ],
 "metadata": {
  "kernelspec": {
   "display_name": "Python 3",
   "language": "python",
   "name": "python3"
  },
  "language_info": {
   "codemirror_mode": {
    "name": "ipython",
    "version": 3
   },
   "file_extension": ".py",
   "mimetype": "text/x-python",
   "name": "python",
   "nbconvert_exporter": "python",
   "pygments_lexer": "ipython3",
   "version": "3.8.3"
  }
 },
 "nbformat": 4,
 "nbformat_minor": 4
}
